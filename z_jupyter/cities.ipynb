{
 "cells": [
  {
   "cell_type": "code",
   "execution_count": 40,
   "id": "eaf4e788",
   "metadata": {},
   "outputs": [],
   "source": [
    "import geopandas as gpd"
   ]
  },
  {
   "cell_type": "code",
   "execution_count": 41,
   "id": "23c2b3c7",
   "metadata": {},
   "outputs": [],
   "source": [
    "cities_shp = gpd.read_file(\"../temp/places/ne_10m_populated_places_simple.shp\", layer='ne_10m_populated_places_simple')"
   ]
  },
  {
   "cell_type": "code",
   "execution_count": null,
   "id": "c72aa84c",
   "metadata": {},
   "outputs": [],
   "source": []
  },
  {
   "cell_type": "code",
   "execution_count": 51,
   "id": "41dede87",
   "metadata": {},
   "outputs": [],
   "source": [
    "filter_capital = (cities_shp[\"featurecla\"] == \"Admin-0 capital\")"
   ]
  },
  {
   "cell_type": "code",
   "execution_count": 52,
   "id": "bf2a5040",
   "metadata": {},
   "outputs": [],
   "source": [
    "filter_region_capital = (cities_shp[\"featurecla\"] == \"Admin-0 region capital\")"
   ]
  },
  {
   "cell_type": "code",
   "execution_count": 53,
   "id": "8be5ccf8",
   "metadata": {},
   "outputs": [],
   "source": [
    "filter_history_capital = (cities_shp[\"featurecla\"] == \"Admin-0 capital alt\")"
   ]
  },
  {
   "cell_type": "code",
   "execution_count": 54,
   "id": "048d3ca8",
   "metadata": {},
   "outputs": [],
   "source": [
    "filter_adm_capital = (cities_shp[\"featurecla\"] == \"Admin-1 capital\")"
   ]
  },
  {
   "cell_type": "code",
   "execution_count": 55,
   "id": "6c5fe6f2",
   "metadata": {},
   "outputs": [],
   "source": [
    "filter_adm_region_capital = (cities_shp[\"featurecla\"] == \"Admin-1 region capital\")"
   ]
  },
  {
   "cell_type": "code",
   "execution_count": 56,
   "id": "21a2c639",
   "metadata": {},
   "outputs": [],
   "source": [
    "city = (cities_shp[\"featurecla\"] == \"Populated place\")"
   ]
  },
  {
   "cell_type": "code",
   "execution_count": 57,
   "id": "4dfba147",
   "metadata": {},
   "outputs": [],
   "source": [
    "scientific_station = (cities_shp[\"featurecla\"] == \"Scientific station\")"
   ]
  },
  {
   "cell_type": "code",
   "execution_count": null,
   "id": "e5f96471",
   "metadata": {},
   "outputs": [],
   "source": []
  },
  {
   "cell_type": "code",
   "execution_count": 58,
   "id": "eb6f664d",
   "metadata": {},
   "outputs": [],
   "source": [
    "cities_columns = cities_shp.loc[filter_capital, [\"name\", \"latitude\", \"longitude\", \"featurecla\" ,\"sov_a3\", \"geometry\"]]"
   ]
  },
  {
   "cell_type": "code",
   "execution_count": 59,
   "id": "a4b013d7",
   "metadata": {},
   "outputs": [
    {
     "data": {
      "text/html": [
       "<div>\n",
       "<style scoped>\n",
       "    .dataframe tbody tr th:only-of-type {\n",
       "        vertical-align: middle;\n",
       "    }\n",
       "\n",
       "    .dataframe tbody tr th {\n",
       "        vertical-align: top;\n",
       "    }\n",
       "\n",
       "    .dataframe thead th {\n",
       "        text-align: right;\n",
       "    }\n",
       "</style>\n",
       "<table border=\"1\" class=\"dataframe\">\n",
       "  <thead>\n",
       "    <tr style=\"text-align: right;\">\n",
       "      <th></th>\n",
       "      <th>name</th>\n",
       "      <th>latitude</th>\n",
       "      <th>longitude</th>\n",
       "      <th>featurecla</th>\n",
       "      <th>sov_a3</th>\n",
       "      <th>geometry</th>\n",
       "    </tr>\n",
       "  </thead>\n",
       "  <tbody>\n",
       "    <tr>\n",
       "      <th>880</th>\n",
       "      <td>Vatican City</td>\n",
       "      <td>41.903282</td>\n",
       "      <td>12.453387</td>\n",
       "      <td>Admin-0 capital</td>\n",
       "      <td>VAT</td>\n",
       "      <td>POINT (12.45339 41.90328)</td>\n",
       "    </tr>\n",
       "    <tr>\n",
       "      <th>4828</th>\n",
       "      <td>San Marino</td>\n",
       "      <td>43.936096</td>\n",
       "      <td>12.441770</td>\n",
       "      <td>Admin-0 capital</td>\n",
       "      <td>SMR</td>\n",
       "      <td>POINT (12.44177 43.93610)</td>\n",
       "    </tr>\n",
       "    <tr>\n",
       "      <th>4833</th>\n",
       "      <td>Vaduz</td>\n",
       "      <td>47.133724</td>\n",
       "      <td>9.516670</td>\n",
       "      <td>Admin-0 capital</td>\n",
       "      <td>LIE</td>\n",
       "      <td>POINT (9.51667 47.13372)</td>\n",
       "    </tr>\n",
       "    <tr>\n",
       "      <th>5012</th>\n",
       "      <td>Luxembourg</td>\n",
       "      <td>49.611660</td>\n",
       "      <td>6.130003</td>\n",
       "      <td>Admin-0 capital</td>\n",
       "      <td>LUX</td>\n",
       "      <td>POINT (6.13000 49.61166)</td>\n",
       "    </tr>\n",
       "    <tr>\n",
       "      <th>6178</th>\n",
       "      <td>Palikir</td>\n",
       "      <td>6.916644</td>\n",
       "      <td>158.149974</td>\n",
       "      <td>Admin-0 capital</td>\n",
       "      <td>FSM</td>\n",
       "      <td>POINT (158.14997 6.91664)</td>\n",
       "    </tr>\n",
       "    <tr>\n",
       "      <th>...</th>\n",
       "      <td>...</td>\n",
       "      <td>...</td>\n",
       "      <td>...</td>\n",
       "      <td>...</td>\n",
       "      <td>...</td>\n",
       "      <td>...</td>\n",
       "    </tr>\n",
       "    <tr>\n",
       "      <th>7330</th>\n",
       "      <td>Cairo</td>\n",
       "      <td>30.051906</td>\n",
       "      <td>31.248022</td>\n",
       "      <td>Admin-0 capital</td>\n",
       "      <td>EGY</td>\n",
       "      <td>POINT (31.24802 30.05191)</td>\n",
       "    </tr>\n",
       "    <tr>\n",
       "      <th>7332</th>\n",
       "      <td>Tokyo</td>\n",
       "      <td>35.686963</td>\n",
       "      <td>139.749462</td>\n",
       "      <td>Admin-0 capital</td>\n",
       "      <td>JPN</td>\n",
       "      <td>POINT (139.74946 35.68696)</td>\n",
       "    </tr>\n",
       "    <tr>\n",
       "      <th>7334</th>\n",
       "      <td>Paris</td>\n",
       "      <td>48.868639</td>\n",
       "      <td>2.331390</td>\n",
       "      <td>Admin-0 capital</td>\n",
       "      <td>FRA</td>\n",
       "      <td>POINT (2.35299 48.85809)</td>\n",
       "    </tr>\n",
       "    <tr>\n",
       "      <th>7335</th>\n",
       "      <td>Santiago</td>\n",
       "      <td>-33.448068</td>\n",
       "      <td>-70.668987</td>\n",
       "      <td>Admin-0 capital</td>\n",
       "      <td>CHL</td>\n",
       "      <td>POINT (-70.66899 -33.44807)</td>\n",
       "    </tr>\n",
       "    <tr>\n",
       "      <th>7340</th>\n",
       "      <td>Singapore</td>\n",
       "      <td>1.294979</td>\n",
       "      <td>103.853875</td>\n",
       "      <td>Admin-0 capital</td>\n",
       "      <td>SGP</td>\n",
       "      <td>POINT (103.85387 1.29498)</td>\n",
       "    </tr>\n",
       "  </tbody>\n",
       "</table>\n",
       "<p>202 rows × 6 columns</p>\n",
       "</div>"
      ],
      "text/plain": [
       "              name   latitude   longitude       featurecla sov_a3  \\\n",
       "880   Vatican City  41.903282   12.453387  Admin-0 capital    VAT   \n",
       "4828    San Marino  43.936096   12.441770  Admin-0 capital    SMR   \n",
       "4833         Vaduz  47.133724    9.516670  Admin-0 capital    LIE   \n",
       "5012    Luxembourg  49.611660    6.130003  Admin-0 capital    LUX   \n",
       "6178       Palikir   6.916644  158.149974  Admin-0 capital    FSM   \n",
       "...            ...        ...         ...              ...    ...   \n",
       "7330         Cairo  30.051906   31.248022  Admin-0 capital    EGY   \n",
       "7332         Tokyo  35.686963  139.749462  Admin-0 capital    JPN   \n",
       "7334         Paris  48.868639    2.331390  Admin-0 capital    FRA   \n",
       "7335      Santiago -33.448068  -70.668987  Admin-0 capital    CHL   \n",
       "7340     Singapore   1.294979  103.853875  Admin-0 capital    SGP   \n",
       "\n",
       "                         geometry  \n",
       "880     POINT (12.45339 41.90328)  \n",
       "4828    POINT (12.44177 43.93610)  \n",
       "4833     POINT (9.51667 47.13372)  \n",
       "5012     POINT (6.13000 49.61166)  \n",
       "6178    POINT (158.14997 6.91664)  \n",
       "...                           ...  \n",
       "7330    POINT (31.24802 30.05191)  \n",
       "7332   POINT (139.74946 35.68696)  \n",
       "7334     POINT (2.35299 48.85809)  \n",
       "7335  POINT (-70.66899 -33.44807)  \n",
       "7340    POINT (103.85387 1.29498)  \n",
       "\n",
       "[202 rows x 6 columns]"
      ]
     },
     "execution_count": 59,
     "metadata": {},
     "output_type": "execute_result"
    }
   ],
   "source": [
    "cities_columns"
   ]
  },
  {
   "cell_type": "code",
   "execution_count": null,
   "id": "6531b120",
   "metadata": {},
   "outputs": [],
   "source": []
  }
 ],
 "metadata": {
  "kernelspec": {
   "display_name": "Django Shell-Plus",
   "language": "python",
   "name": "django_extensions"
  },
  "language_info": {
   "codemirror_mode": {
    "name": "ipython",
    "version": 3
   },
   "file_extension": ".py",
   "mimetype": "text/x-python",
   "name": "python",
   "nbconvert_exporter": "python",
   "pygments_lexer": "ipython3",
   "version": "3.9.9"
  }
 },
 "nbformat": 4,
 "nbformat_minor": 5
}
