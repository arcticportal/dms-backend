{
 "cells": [
  {
   "cell_type": "markdown",
   "id": "035d757d",
   "metadata": {},
   "source": [
    "## Scraping countries data and boundaries\n",
    "\n",
    "Link to data from Natural Earth: [counties data](https://www.naturalearthdata.com/http//www.naturalearthdata.com/download/50m/cultural/ne_50m_admin_0_countries.zip)\n",
    "\n"
   ]
  },
  {
   "cell_type": "code",
   "execution_count": 29,
   "id": "c51850eb",
   "metadata": {},
   "outputs": [],
   "source": [
    "import geopandas as gpd"
   ]
  },
  {
   "cell_type": "code",
   "execution_count": 10,
   "id": "44487784",
   "metadata": {
    "scrolled": true
   },
   "outputs": [],
   "source": [
    "countries_shp = gpd.read_file(\"../temp/country/ne_50m_admin_0_countries.shp\", layer='ne_50m_admin_0_countries')"
   ]
  },
  {
   "cell_type": "code",
   "execution_count": 12,
   "id": "5bb80f61",
   "metadata": {},
   "outputs": [
    {
     "name": "stdout",
     "output_type": "stream",
     "text": [
      "<class 'geopandas.geodataframe.GeoDataFrame'>\n",
      "RangeIndex: 242 entries, 0 to 241\n",
      "Columns: 162 entries, featurecla to geometry\n",
      "dtypes: float64(4), geometry(1), int64(25), object(132)\n",
      "memory usage: 306.4+ KB\n"
     ]
    }
   ],
   "source": [
    "countries_shp.info()"
   ]
  },
  {
   "cell_type": "code",
   "execution_count": 31,
   "id": "c4e640b4",
   "metadata": {},
   "outputs": [
    {
     "data": {
      "text/plain": [
       "Index(['featurecla', 'scalerank', 'LABELRANK', 'SOVEREIGNT', 'SOV_A3',\n",
       "       'ADM0_DIF', 'LEVEL', 'TYPE', 'ADMIN', 'ADM0_A3',\n",
       "       ...\n",
       "       'FCLASS_TR', 'FCLASS_ID', 'FCLASS_PL', 'FCLASS_GR', 'FCLASS_IT',\n",
       "       'FCLASS_NL', 'FCLASS_SE', 'FCLASS_BD', 'FCLASS_UA', 'geometry'],\n",
       "      dtype='object', length=162)"
      ]
     },
     "execution_count": 31,
     "metadata": {},
     "output_type": "execute_result"
    }
   ],
   "source": [
    "countries_shp.columns"
   ]
  },
  {
   "cell_type": "code",
   "execution_count": 27,
   "id": "c94a5127",
   "metadata": {
    "scrolled": true
   },
   "outputs": [],
   "source": [
    "filter_countries = countries_shp[[\"NAME\", \"NAME_LONG\", \"FIPS_10\", \"ISO_A2\", \"ISO_A3\", \"POSTAL\", \"TYPE\", \"CONTINENT\", \"SUBREGION\", \"WIKIDATAID\" ]]"
   ]
  },
  {
   "cell_type": "code",
   "execution_count": 28,
   "id": "17c88145",
   "metadata": {},
   "outputs": [
    {
     "data": {
      "text/html": [
       "<div>\n",
       "<style scoped>\n",
       "    .dataframe tbody tr th:only-of-type {\n",
       "        vertical-align: middle;\n",
       "    }\n",
       "\n",
       "    .dataframe tbody tr th {\n",
       "        vertical-align: top;\n",
       "    }\n",
       "\n",
       "    .dataframe thead th {\n",
       "        text-align: right;\n",
       "    }\n",
       "</style>\n",
       "<table border=\"1\" class=\"dataframe\">\n",
       "  <thead>\n",
       "    <tr style=\"text-align: right;\">\n",
       "      <th></th>\n",
       "      <th>NAME</th>\n",
       "      <th>NAME_LONG</th>\n",
       "      <th>FIPS_10</th>\n",
       "      <th>ISO_A2</th>\n",
       "      <th>ISO_A3</th>\n",
       "      <th>POSTAL</th>\n",
       "      <th>TYPE</th>\n",
       "      <th>CONTINENT</th>\n",
       "      <th>SUBREGION</th>\n",
       "      <th>WIKIDATAID</th>\n",
       "    </tr>\n",
       "  </thead>\n",
       "  <tbody>\n",
       "    <tr>\n",
       "      <th>0</th>\n",
       "      <td>Zimbabwe</td>\n",
       "      <td>Zimbabwe</td>\n",
       "      <td>ZI</td>\n",
       "      <td>ZW</td>\n",
       "      <td>ZWE</td>\n",
       "      <td>ZW</td>\n",
       "      <td>Sovereign country</td>\n",
       "      <td>Africa</td>\n",
       "      <td>Eastern Africa</td>\n",
       "      <td>Q954</td>\n",
       "    </tr>\n",
       "    <tr>\n",
       "      <th>1</th>\n",
       "      <td>Zambia</td>\n",
       "      <td>Zambia</td>\n",
       "      <td>ZA</td>\n",
       "      <td>ZM</td>\n",
       "      <td>ZMB</td>\n",
       "      <td>ZM</td>\n",
       "      <td>Sovereign country</td>\n",
       "      <td>Africa</td>\n",
       "      <td>Eastern Africa</td>\n",
       "      <td>Q953</td>\n",
       "    </tr>\n",
       "    <tr>\n",
       "      <th>2</th>\n",
       "      <td>Yemen</td>\n",
       "      <td>Yemen</td>\n",
       "      <td>YM</td>\n",
       "      <td>YE</td>\n",
       "      <td>YEM</td>\n",
       "      <td>YE</td>\n",
       "      <td>Sovereign country</td>\n",
       "      <td>Asia</td>\n",
       "      <td>Western Asia</td>\n",
       "      <td>Q805</td>\n",
       "    </tr>\n",
       "    <tr>\n",
       "      <th>3</th>\n",
       "      <td>Vietnam</td>\n",
       "      <td>Vietnam</td>\n",
       "      <td>VM</td>\n",
       "      <td>VN</td>\n",
       "      <td>VNM</td>\n",
       "      <td>VN</td>\n",
       "      <td>Sovereign country</td>\n",
       "      <td>Asia</td>\n",
       "      <td>South-Eastern Asia</td>\n",
       "      <td>Q881</td>\n",
       "    </tr>\n",
       "    <tr>\n",
       "      <th>4</th>\n",
       "      <td>Venezuela</td>\n",
       "      <td>Venezuela</td>\n",
       "      <td>VE</td>\n",
       "      <td>VE</td>\n",
       "      <td>VEN</td>\n",
       "      <td>VE</td>\n",
       "      <td>Sovereign country</td>\n",
       "      <td>South America</td>\n",
       "      <td>South America</td>\n",
       "      <td>Q717</td>\n",
       "    </tr>\n",
       "    <tr>\n",
       "      <th>...</th>\n",
       "      <td>...</td>\n",
       "      <td>...</td>\n",
       "      <td>...</td>\n",
       "      <td>...</td>\n",
       "      <td>...</td>\n",
       "      <td>...</td>\n",
       "      <td>...</td>\n",
       "      <td>...</td>\n",
       "      <td>...</td>\n",
       "      <td>...</td>\n",
       "    </tr>\n",
       "    <tr>\n",
       "      <th>237</th>\n",
       "      <td>Afghanistan</td>\n",
       "      <td>Afghanistan</td>\n",
       "      <td>AF</td>\n",
       "      <td>AF</td>\n",
       "      <td>AFG</td>\n",
       "      <td>AF</td>\n",
       "      <td>Sovereign country</td>\n",
       "      <td>Asia</td>\n",
       "      <td>Southern Asia</td>\n",
       "      <td>Q889</td>\n",
       "    </tr>\n",
       "    <tr>\n",
       "      <th>238</th>\n",
       "      <td>Siachen Glacier</td>\n",
       "      <td>Siachen Glacier</td>\n",
       "      <td>-99</td>\n",
       "      <td>-99</td>\n",
       "      <td>-99</td>\n",
       "      <td>SG</td>\n",
       "      <td>Indeterminate</td>\n",
       "      <td>Asia</td>\n",
       "      <td>Southern Asia</td>\n",
       "      <td>Q333946</td>\n",
       "    </tr>\n",
       "    <tr>\n",
       "      <th>239</th>\n",
       "      <td>Antarctica</td>\n",
       "      <td>Antarctica</td>\n",
       "      <td>AY</td>\n",
       "      <td>AQ</td>\n",
       "      <td>ATA</td>\n",
       "      <td>AQ</td>\n",
       "      <td>Indeterminate</td>\n",
       "      <td>Antarctica</td>\n",
       "      <td>Antarctica</td>\n",
       "      <td>Q51</td>\n",
       "    </tr>\n",
       "    <tr>\n",
       "      <th>240</th>\n",
       "      <td>Sint Maarten</td>\n",
       "      <td>Sint Maarten</td>\n",
       "      <td>NT</td>\n",
       "      <td>SX</td>\n",
       "      <td>SXM</td>\n",
       "      <td>SX</td>\n",
       "      <td>Country</td>\n",
       "      <td>North America</td>\n",
       "      <td>Caribbean</td>\n",
       "      <td>Q26273</td>\n",
       "    </tr>\n",
       "    <tr>\n",
       "      <th>241</th>\n",
       "      <td>Tuvalu</td>\n",
       "      <td>Tuvalu</td>\n",
       "      <td>TV</td>\n",
       "      <td>TV</td>\n",
       "      <td>TUV</td>\n",
       "      <td>TV</td>\n",
       "      <td>Sovereign country</td>\n",
       "      <td>Oceania</td>\n",
       "      <td>Polynesia</td>\n",
       "      <td>Q672</td>\n",
       "    </tr>\n",
       "  </tbody>\n",
       "</table>\n",
       "<p>242 rows × 10 columns</p>\n",
       "</div>"
      ],
      "text/plain": [
       "                NAME        NAME_LONG FIPS_10 ISO_A2 ISO_A3 POSTAL  \\\n",
       "0           Zimbabwe         Zimbabwe      ZI     ZW    ZWE     ZW   \n",
       "1             Zambia           Zambia      ZA     ZM    ZMB     ZM   \n",
       "2              Yemen            Yemen      YM     YE    YEM     YE   \n",
       "3            Vietnam          Vietnam      VM     VN    VNM     VN   \n",
       "4          Venezuela        Venezuela      VE     VE    VEN     VE   \n",
       "..               ...              ...     ...    ...    ...    ...   \n",
       "237      Afghanistan      Afghanistan      AF     AF    AFG     AF   \n",
       "238  Siachen Glacier  Siachen Glacier     -99    -99    -99     SG   \n",
       "239       Antarctica       Antarctica      AY     AQ    ATA     AQ   \n",
       "240     Sint Maarten     Sint Maarten      NT     SX    SXM     SX   \n",
       "241           Tuvalu           Tuvalu      TV     TV    TUV     TV   \n",
       "\n",
       "                  TYPE      CONTINENT           SUBREGION WIKIDATAID  \n",
       "0    Sovereign country         Africa      Eastern Africa       Q954  \n",
       "1    Sovereign country         Africa      Eastern Africa       Q953  \n",
       "2    Sovereign country           Asia        Western Asia       Q805  \n",
       "3    Sovereign country           Asia  South-Eastern Asia       Q881  \n",
       "4    Sovereign country  South America       South America       Q717  \n",
       "..                 ...            ...                 ...        ...  \n",
       "237  Sovereign country           Asia       Southern Asia       Q889  \n",
       "238      Indeterminate           Asia       Southern Asia    Q333946  \n",
       "239      Indeterminate     Antarctica          Antarctica        Q51  \n",
       "240            Country  North America           Caribbean     Q26273  \n",
       "241  Sovereign country        Oceania           Polynesia       Q672  \n",
       "\n",
       "[242 rows x 10 columns]"
      ]
     },
     "execution_count": 28,
     "metadata": {},
     "output_type": "execute_result"
    }
   ],
   "source": [
    "filter_countries"
   ]
  },
  {
   "cell_type": "code",
   "execution_count": null,
   "id": "0f430ed9",
   "metadata": {},
   "outputs": [],
   "source": []
  }
 ],
 "metadata": {
  "kernelspec": {
   "display_name": "Python 3 (ipykernel)",
   "language": "python",
   "name": "python3"
  },
  "language_info": {
   "codemirror_mode": {
    "name": "ipython",
    "version": 3
   },
   "file_extension": ".py",
   "mimetype": "text/x-python",
   "name": "python",
   "nbconvert_exporter": "python",
   "pygments_lexer": "ipython3",
   "version": "3.9.9"
  }
 },
 "nbformat": 4,
 "nbformat_minor": 5
}
