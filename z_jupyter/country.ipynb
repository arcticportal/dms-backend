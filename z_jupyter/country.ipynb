{
 "cells": [
  {
   "cell_type": "markdown",
   "id": "035d757d",
   "metadata": {},
   "source": [
    "## Scraping countries data and boundaries\n",
    "\n",
    "Link to data from Natural Earth: [counties data](https://www.naturalearthdata.com/http//www.naturalearthdata.com/download/50m/cultural/ne_50m_admin_0_countries.zip)\n",
    "\n"
   ]
  },
  {
   "cell_type": "code",
   "execution_count": 206,
   "id": "c51850eb",
   "metadata": {},
   "outputs": [],
   "source": [
    "import geopandas as gpd\n",
    "import requests"
   ]
  },
  {
   "cell_type": "code",
   "execution_count": 207,
   "id": "7e7887b2",
   "metadata": {},
   "outputs": [],
   "source": [
    "countries_link = 'https://www.naturalearthdata.com/http//www.naturalearthdata.com/download/50m/cultural/ne_50m_admin_0_countries.zip'"
   ]
  },
  {
   "cell_type": "code",
   "execution_count": 208,
   "id": "af206636",
   "metadata": {},
   "outputs": [
    {
     "data": {
      "text/plain": [
       "200"
      ]
     },
     "execution_count": 208,
     "metadata": {},
     "output_type": "execute_result"
    }
   ],
   "source": [
    "r = requests.get(countries_link ,stream=True, headers={\"User-Agent\": \"XY\"})\n",
    "r.status_code"
   ]
  },
  {
   "cell_type": "code",
   "execution_count": 209,
   "id": "11c46601",
   "metadata": {},
   "outputs": [],
   "source": [
    "with open('../temp/country/ne_50m_admin_0_countries.zip', 'wb') as fd:\n",
    "    for chunk in r.iter_content(chunk_size=128):\n",
    "        fd.write(chunk)"
   ]
  },
  {
   "cell_type": "code",
   "execution_count": 212,
   "id": "a9163df7",
   "metadata": {},
   "outputs": [],
   "source": [
    "zip_file = \"zip://../temp/country/ne_50m_admin_0_countries.zip!ne_50m_admin_0_countries.shp\""
   ]
  },
  {
   "cell_type": "code",
   "execution_count": 213,
   "id": "44487784",
   "metadata": {
    "scrolled": true
   },
   "outputs": [],
   "source": [
    "countries_shp = gpd.read_file(\n",
    "    zip_file, layer='ne_50m_admin_0_countries'\n",
    ")"
   ]
  },
  {
   "cell_type": "code",
   "execution_count": 214,
   "id": "5bb80f61",
   "metadata": {},
   "outputs": [
    {
     "name": "stdout",
     "output_type": "stream",
     "text": [
      "<class 'geopandas.geodataframe.GeoDataFrame'>\n",
      "RangeIndex: 242 entries, 0 to 241\n",
      "Columns: 162 entries, featurecla to geometry\n",
      "dtypes: float64(4), geometry(1), int64(25), object(132)\n",
      "memory usage: 306.4+ KB\n"
     ]
    }
   ],
   "source": [
    "countries_shp.info()"
   ]
  },
  {
   "cell_type": "code",
   "execution_count": 215,
   "id": "c4e640b4",
   "metadata": {},
   "outputs": [
    {
     "data": {
      "text/plain": [
       "Index(['featurecla', 'scalerank', 'LABELRANK', 'SOVEREIGNT', 'SOV_A3',\n",
       "       'ADM0_DIF', 'LEVEL', 'TYPE', 'ADMIN', 'ADM0_A3',\n",
       "       ...\n",
       "       'FCLASS_TR', 'FCLASS_ID', 'FCLASS_PL', 'FCLASS_GR', 'FCLASS_IT',\n",
       "       'FCLASS_NL', 'FCLASS_SE', 'FCLASS_BD', 'FCLASS_UA', 'geometry'],\n",
       "      dtype='object', length=162)"
      ]
     },
     "execution_count": 215,
     "metadata": {},
     "output_type": "execute_result"
    }
   ],
   "source": [
    "countries_shp.columns"
   ]
  },
  {
   "cell_type": "code",
   "execution_count": 216,
   "id": "c94a5127",
   "metadata": {
    "scrolled": true
   },
   "outputs": [],
   "source": [
    "filter_countries = countries_shp[\n",
    "    [\n",
    "        \"NAME\", \"NAME_LONG\",\n",
    "        \"FIPS_10\", \"ISO_A2\",\n",
    "        \"ISO_A3\", \"POSTAL\",\n",
    "        \"TYPE\", \"CONTINENT\",\n",
    "        \"SUBREGION\", \"WIKIDATAID\"\n",
    "    ]\n",
    "]"
   ]
  },
  {
   "cell_type": "code",
   "execution_count": 217,
   "id": "17c88145",
   "metadata": {},
   "outputs": [
    {
     "data": {
      "text/html": [
       "<div>\n",
       "<style scoped>\n",
       "    .dataframe tbody tr th:only-of-type {\n",
       "        vertical-align: middle;\n",
       "    }\n",
       "\n",
       "    .dataframe tbody tr th {\n",
       "        vertical-align: top;\n",
       "    }\n",
       "\n",
       "    .dataframe thead th {\n",
       "        text-align: right;\n",
       "    }\n",
       "</style>\n",
       "<table border=\"1\" class=\"dataframe\">\n",
       "  <thead>\n",
       "    <tr style=\"text-align: right;\">\n",
       "      <th></th>\n",
       "      <th>NAME</th>\n",
       "      <th>NAME_LONG</th>\n",
       "      <th>FIPS_10</th>\n",
       "      <th>ISO_A2</th>\n",
       "      <th>ISO_A3</th>\n",
       "      <th>POSTAL</th>\n",
       "      <th>TYPE</th>\n",
       "      <th>CONTINENT</th>\n",
       "      <th>SUBREGION</th>\n",
       "      <th>WIKIDATAID</th>\n",
       "    </tr>\n",
       "  </thead>\n",
       "  <tbody>\n",
       "    <tr>\n",
       "      <th>0</th>\n",
       "      <td>Zimbabwe</td>\n",
       "      <td>Zimbabwe</td>\n",
       "      <td>ZI</td>\n",
       "      <td>ZW</td>\n",
       "      <td>ZWE</td>\n",
       "      <td>ZW</td>\n",
       "      <td>Sovereign country</td>\n",
       "      <td>Africa</td>\n",
       "      <td>Eastern Africa</td>\n",
       "      <td>Q954</td>\n",
       "    </tr>\n",
       "    <tr>\n",
       "      <th>1</th>\n",
       "      <td>Zambia</td>\n",
       "      <td>Zambia</td>\n",
       "      <td>ZA</td>\n",
       "      <td>ZM</td>\n",
       "      <td>ZMB</td>\n",
       "      <td>ZM</td>\n",
       "      <td>Sovereign country</td>\n",
       "      <td>Africa</td>\n",
       "      <td>Eastern Africa</td>\n",
       "      <td>Q953</td>\n",
       "    </tr>\n",
       "    <tr>\n",
       "      <th>2</th>\n",
       "      <td>Yemen</td>\n",
       "      <td>Yemen</td>\n",
       "      <td>YM</td>\n",
       "      <td>YE</td>\n",
       "      <td>YEM</td>\n",
       "      <td>YE</td>\n",
       "      <td>Sovereign country</td>\n",
       "      <td>Asia</td>\n",
       "      <td>Western Asia</td>\n",
       "      <td>Q805</td>\n",
       "    </tr>\n",
       "    <tr>\n",
       "      <th>3</th>\n",
       "      <td>Vietnam</td>\n",
       "      <td>Vietnam</td>\n",
       "      <td>VM</td>\n",
       "      <td>VN</td>\n",
       "      <td>VNM</td>\n",
       "      <td>VN</td>\n",
       "      <td>Sovereign country</td>\n",
       "      <td>Asia</td>\n",
       "      <td>South-Eastern Asia</td>\n",
       "      <td>Q881</td>\n",
       "    </tr>\n",
       "    <tr>\n",
       "      <th>4</th>\n",
       "      <td>Venezuela</td>\n",
       "      <td>Venezuela</td>\n",
       "      <td>VE</td>\n",
       "      <td>VE</td>\n",
       "      <td>VEN</td>\n",
       "      <td>VE</td>\n",
       "      <td>Sovereign country</td>\n",
       "      <td>South America</td>\n",
       "      <td>South America</td>\n",
       "      <td>Q717</td>\n",
       "    </tr>\n",
       "    <tr>\n",
       "      <th>...</th>\n",
       "      <td>...</td>\n",
       "      <td>...</td>\n",
       "      <td>...</td>\n",
       "      <td>...</td>\n",
       "      <td>...</td>\n",
       "      <td>...</td>\n",
       "      <td>...</td>\n",
       "      <td>...</td>\n",
       "      <td>...</td>\n",
       "      <td>...</td>\n",
       "    </tr>\n",
       "    <tr>\n",
       "      <th>237</th>\n",
       "      <td>Afghanistan</td>\n",
       "      <td>Afghanistan</td>\n",
       "      <td>AF</td>\n",
       "      <td>AF</td>\n",
       "      <td>AFG</td>\n",
       "      <td>AF</td>\n",
       "      <td>Sovereign country</td>\n",
       "      <td>Asia</td>\n",
       "      <td>Southern Asia</td>\n",
       "      <td>Q889</td>\n",
       "    </tr>\n",
       "    <tr>\n",
       "      <th>238</th>\n",
       "      <td>Siachen Glacier</td>\n",
       "      <td>Siachen Glacier</td>\n",
       "      <td>-99</td>\n",
       "      <td>-99</td>\n",
       "      <td>-99</td>\n",
       "      <td>SG</td>\n",
       "      <td>Indeterminate</td>\n",
       "      <td>Asia</td>\n",
       "      <td>Southern Asia</td>\n",
       "      <td>Q333946</td>\n",
       "    </tr>\n",
       "    <tr>\n",
       "      <th>239</th>\n",
       "      <td>Antarctica</td>\n",
       "      <td>Antarctica</td>\n",
       "      <td>AY</td>\n",
       "      <td>AQ</td>\n",
       "      <td>ATA</td>\n",
       "      <td>AQ</td>\n",
       "      <td>Indeterminate</td>\n",
       "      <td>Antarctica</td>\n",
       "      <td>Antarctica</td>\n",
       "      <td>Q51</td>\n",
       "    </tr>\n",
       "    <tr>\n",
       "      <th>240</th>\n",
       "      <td>Sint Maarten</td>\n",
       "      <td>Sint Maarten</td>\n",
       "      <td>NT</td>\n",
       "      <td>SX</td>\n",
       "      <td>SXM</td>\n",
       "      <td>SX</td>\n",
       "      <td>Country</td>\n",
       "      <td>North America</td>\n",
       "      <td>Caribbean</td>\n",
       "      <td>Q26273</td>\n",
       "    </tr>\n",
       "    <tr>\n",
       "      <th>241</th>\n",
       "      <td>Tuvalu</td>\n",
       "      <td>Tuvalu</td>\n",
       "      <td>TV</td>\n",
       "      <td>TV</td>\n",
       "      <td>TUV</td>\n",
       "      <td>TV</td>\n",
       "      <td>Sovereign country</td>\n",
       "      <td>Oceania</td>\n",
       "      <td>Polynesia</td>\n",
       "      <td>Q672</td>\n",
       "    </tr>\n",
       "  </tbody>\n",
       "</table>\n",
       "<p>242 rows × 10 columns</p>\n",
       "</div>"
      ],
      "text/plain": [
       "                NAME        NAME_LONG FIPS_10 ISO_A2 ISO_A3 POSTAL  \\\n",
       "0           Zimbabwe         Zimbabwe      ZI     ZW    ZWE     ZW   \n",
       "1             Zambia           Zambia      ZA     ZM    ZMB     ZM   \n",
       "2              Yemen            Yemen      YM     YE    YEM     YE   \n",
       "3            Vietnam          Vietnam      VM     VN    VNM     VN   \n",
       "4          Venezuela        Venezuela      VE     VE    VEN     VE   \n",
       "..               ...              ...     ...    ...    ...    ...   \n",
       "237      Afghanistan      Afghanistan      AF     AF    AFG     AF   \n",
       "238  Siachen Glacier  Siachen Glacier     -99    -99    -99     SG   \n",
       "239       Antarctica       Antarctica      AY     AQ    ATA     AQ   \n",
       "240     Sint Maarten     Sint Maarten      NT     SX    SXM     SX   \n",
       "241           Tuvalu           Tuvalu      TV     TV    TUV     TV   \n",
       "\n",
       "                  TYPE      CONTINENT           SUBREGION WIKIDATAID  \n",
       "0    Sovereign country         Africa      Eastern Africa       Q954  \n",
       "1    Sovereign country         Africa      Eastern Africa       Q953  \n",
       "2    Sovereign country           Asia        Western Asia       Q805  \n",
       "3    Sovereign country           Asia  South-Eastern Asia       Q881  \n",
       "4    Sovereign country  South America       South America       Q717  \n",
       "..                 ...            ...                 ...        ...  \n",
       "237  Sovereign country           Asia       Southern Asia       Q889  \n",
       "238      Indeterminate           Asia       Southern Asia    Q333946  \n",
       "239      Indeterminate     Antarctica          Antarctica        Q51  \n",
       "240            Country  North America           Caribbean     Q26273  \n",
       "241  Sovereign country        Oceania           Polynesia       Q672  \n",
       "\n",
       "[242 rows x 10 columns]"
      ]
     },
     "execution_count": 217,
     "metadata": {},
     "output_type": "execute_result"
    }
   ],
   "source": [
    "filter_countries"
   ]
  },
  {
   "cell_type": "code",
   "execution_count": 218,
   "id": "6374eb6f",
   "metadata": {},
   "outputs": [],
   "source": [
    "types = set(filter_countries[\"TYPE\"])"
   ]
  },
  {
   "cell_type": "code",
   "execution_count": 219,
   "id": "0f430ed9",
   "metadata": {},
   "outputs": [],
   "source": [
    "continents = set(filter_countries[\"CONTINENT\"])"
   ]
  },
  {
   "cell_type": "code",
   "execution_count": 220,
   "id": "676fc8d7",
   "metadata": {},
   "outputs": [],
   "source": [
    "subregions = set(filter_countries[\"SUBREGION\"])"
   ]
  },
  {
   "cell_type": "code",
   "execution_count": 221,
   "id": "4736cb38",
   "metadata": {},
   "outputs": [
    {
     "data": {
      "text/plain": [
       "{'Country',\n",
       " 'Dependency',\n",
       " 'Disputed',\n",
       " 'Indeterminate',\n",
       " 'Sovereign country',\n",
       " 'Sovereignty'}"
      ]
     },
     "execution_count": 221,
     "metadata": {},
     "output_type": "execute_result"
    }
   ],
   "source": [
    "types"
   ]
  },
  {
   "cell_type": "code",
   "execution_count": 222,
   "id": "de3aef76",
   "metadata": {},
   "outputs": [
    {
     "data": {
      "text/plain": [
       "{'Africa',\n",
       " 'Antarctica',\n",
       " 'Asia',\n",
       " 'Europe',\n",
       " 'North America',\n",
       " 'Oceania',\n",
       " 'Seven seas (open ocean)',\n",
       " 'South America'}"
      ]
     },
     "execution_count": 222,
     "metadata": {},
     "output_type": "execute_result"
    }
   ],
   "source": [
    "continents"
   ]
  },
  {
   "cell_type": "code",
   "execution_count": 223,
   "id": "a78fcdb8",
   "metadata": {},
   "outputs": [
    {
     "data": {
      "text/plain": [
       "{'Antarctica',\n",
       " 'Australia and New Zealand',\n",
       " 'Caribbean',\n",
       " 'Central America',\n",
       " 'Central Asia',\n",
       " 'Eastern Africa',\n",
       " 'Eastern Asia',\n",
       " 'Eastern Europe',\n",
       " 'Melanesia',\n",
       " 'Micronesia',\n",
       " 'Middle Africa',\n",
       " 'Northern Africa',\n",
       " 'Northern America',\n",
       " 'Northern Europe',\n",
       " 'Polynesia',\n",
       " 'Seven seas (open ocean)',\n",
       " 'South America',\n",
       " 'South-Eastern Asia',\n",
       " 'Southern Africa',\n",
       " 'Southern Asia',\n",
       " 'Southern Europe',\n",
       " 'Western Africa',\n",
       " 'Western Asia',\n",
       " 'Western Europe'}"
      ]
     },
     "execution_count": 223,
     "metadata": {},
     "output_type": "execute_result"
    }
   ],
   "source": [
    "subregions"
   ]
  },
  {
   "cell_type": "code",
   "execution_count": 224,
   "id": "9fb132fe",
   "metadata": {},
   "outputs": [],
   "source": [
    "filter_errors = filter_countries['ISO_A2']=='-99'"
   ]
  },
  {
   "cell_type": "code",
   "execution_count": 225,
   "id": "06a3300e",
   "metadata": {},
   "outputs": [
    {
     "data": {
      "text/plain": [
       "0      False\n",
       "1      False\n",
       "2      False\n",
       "3      False\n",
       "4      False\n",
       "       ...  \n",
       "237    False\n",
       "238     True\n",
       "239    False\n",
       "240    False\n",
       "241    False\n",
       "Name: ISO_A2, Length: 242, dtype: bool"
      ]
     },
     "execution_count": 225,
     "metadata": {},
     "output_type": "execute_result"
    }
   ],
   "source": [
    "filter_errors"
   ]
  },
  {
   "cell_type": "code",
   "execution_count": 226,
   "id": "4659503f",
   "metadata": {},
   "outputs": [
    {
     "data": {
      "text/html": [
       "<div>\n",
       "<style scoped>\n",
       "    .dataframe tbody tr th:only-of-type {\n",
       "        vertical-align: middle;\n",
       "    }\n",
       "\n",
       "    .dataframe tbody tr th {\n",
       "        vertical-align: top;\n",
       "    }\n",
       "\n",
       "    .dataframe thead th {\n",
       "        text-align: right;\n",
       "    }\n",
       "</style>\n",
       "<table border=\"1\" class=\"dataframe\">\n",
       "  <thead>\n",
       "    <tr style=\"text-align: right;\">\n",
       "      <th></th>\n",
       "      <th>NAME</th>\n",
       "      <th>NAME_LONG</th>\n",
       "      <th>FIPS_10</th>\n",
       "      <th>ISO_A2</th>\n",
       "      <th>ISO_A3</th>\n",
       "      <th>POSTAL</th>\n",
       "      <th>TYPE</th>\n",
       "      <th>CONTINENT</th>\n",
       "      <th>SUBREGION</th>\n",
       "      <th>WIKIDATAID</th>\n",
       "    </tr>\n",
       "  </thead>\n",
       "  <tbody>\n",
       "    <tr>\n",
       "      <th>58</th>\n",
       "      <td>Somaliland</td>\n",
       "      <td>Somaliland</td>\n",
       "      <td>-99</td>\n",
       "      <td>-99</td>\n",
       "      <td>-99</td>\n",
       "      <td>SL</td>\n",
       "      <td>Indeterminate</td>\n",
       "      <td>Africa</td>\n",
       "      <td>Eastern Africa</td>\n",
       "      <td>Q34754</td>\n",
       "    </tr>\n",
       "    <tr>\n",
       "      <th>88</th>\n",
       "      <td>Norway</td>\n",
       "      <td>Norway</td>\n",
       "      <td>-99</td>\n",
       "      <td>-99</td>\n",
       "      <td>-99</td>\n",
       "      <td>N</td>\n",
       "      <td>Sovereign country</td>\n",
       "      <td>Europe</td>\n",
       "      <td>Northern Europe</td>\n",
       "      <td>Q20</td>\n",
       "    </tr>\n",
       "    <tr>\n",
       "      <th>160</th>\n",
       "      <td>France</td>\n",
       "      <td>France</td>\n",
       "      <td>FR</td>\n",
       "      <td>-99</td>\n",
       "      <td>-99</td>\n",
       "      <td>F</td>\n",
       "      <td>Country</td>\n",
       "      <td>Europe</td>\n",
       "      <td>Western Europe</td>\n",
       "      <td>Q142</td>\n",
       "    </tr>\n",
       "    <tr>\n",
       "      <th>185</th>\n",
       "      <td>N. Cyprus</td>\n",
       "      <td>Northern Cyprus</td>\n",
       "      <td>-99</td>\n",
       "      <td>-99</td>\n",
       "      <td>-99</td>\n",
       "      <td>CN</td>\n",
       "      <td>Sovereign country</td>\n",
       "      <td>Asia</td>\n",
       "      <td>Western Asia</td>\n",
       "      <td>Q23681</td>\n",
       "    </tr>\n",
       "    <tr>\n",
       "      <th>226</th>\n",
       "      <td>Indian Ocean Ter.</td>\n",
       "      <td>Indian Ocean Territories</td>\n",
       "      <td>-99</td>\n",
       "      <td>-99</td>\n",
       "      <td>-99</td>\n",
       "      <td>IOT</td>\n",
       "      <td>Dependency</td>\n",
       "      <td>Asia</td>\n",
       "      <td>Seven seas (open ocean)</td>\n",
       "      <td>Q4824275</td>\n",
       "    </tr>\n",
       "    <tr>\n",
       "      <th>229</th>\n",
       "      <td>Ashmore and Cartier Is.</td>\n",
       "      <td>Ashmore and Cartier Islands</td>\n",
       "      <td>AT</td>\n",
       "      <td>-99</td>\n",
       "      <td>-99</td>\n",
       "      <td>AU</td>\n",
       "      <td>Dependency</td>\n",
       "      <td>Oceania</td>\n",
       "      <td>Australia and New Zealand</td>\n",
       "      <td>Q133888</td>\n",
       "    </tr>\n",
       "    <tr>\n",
       "      <th>238</th>\n",
       "      <td>Siachen Glacier</td>\n",
       "      <td>Siachen Glacier</td>\n",
       "      <td>-99</td>\n",
       "      <td>-99</td>\n",
       "      <td>-99</td>\n",
       "      <td>SG</td>\n",
       "      <td>Indeterminate</td>\n",
       "      <td>Asia</td>\n",
       "      <td>Southern Asia</td>\n",
       "      <td>Q333946</td>\n",
       "    </tr>\n",
       "  </tbody>\n",
       "</table>\n",
       "</div>"
      ],
      "text/plain": [
       "                        NAME                    NAME_LONG FIPS_10 ISO_A2  \\\n",
       "58                Somaliland                   Somaliland     -99    -99   \n",
       "88                    Norway                       Norway     -99    -99   \n",
       "160                   France                       France      FR    -99   \n",
       "185                N. Cyprus              Northern Cyprus     -99    -99   \n",
       "226        Indian Ocean Ter.     Indian Ocean Territories     -99    -99   \n",
       "229  Ashmore and Cartier Is.  Ashmore and Cartier Islands      AT    -99   \n",
       "238          Siachen Glacier              Siachen Glacier     -99    -99   \n",
       "\n",
       "    ISO_A3 POSTAL               TYPE CONTINENT                  SUBREGION  \\\n",
       "58     -99     SL      Indeterminate    Africa             Eastern Africa   \n",
       "88     -99      N  Sovereign country    Europe            Northern Europe   \n",
       "160    -99      F            Country    Europe             Western Europe   \n",
       "185    -99     CN  Sovereign country      Asia               Western Asia   \n",
       "226    -99    IOT         Dependency      Asia    Seven seas (open ocean)   \n",
       "229    -99     AU         Dependency   Oceania  Australia and New Zealand   \n",
       "238    -99     SG      Indeterminate      Asia              Southern Asia   \n",
       "\n",
       "    WIKIDATAID  \n",
       "58      Q34754  \n",
       "88         Q20  \n",
       "160       Q142  \n",
       "185     Q23681  \n",
       "226   Q4824275  \n",
       "229    Q133888  \n",
       "238    Q333946  "
      ]
     },
     "execution_count": 226,
     "metadata": {},
     "output_type": "execute_result"
    }
   ],
   "source": [
    "filter_countries[filter_errors]"
   ]
  },
  {
   "cell_type": "code",
   "execution_count": null,
   "id": "db7f4297",
   "metadata": {},
   "outputs": [],
   "source": []
  },
  {
   "cell_type": "code",
   "execution_count": null,
   "id": "1fa090e8",
   "metadata": {},
   "outputs": [],
   "source": []
  }
 ],
 "metadata": {
  "kernelspec": {
   "display_name": "Django Shell-Plus",
   "language": "python",
   "name": "django_extensions"
  },
  "language_info": {
   "codemirror_mode": {
    "name": "ipython",
    "version": 3
   },
   "file_extension": ".py",
   "mimetype": "text/x-python",
   "name": "python",
   "nbconvert_exporter": "python",
   "pygments_lexer": "ipython3",
   "version": "3.9.7"
  }
 },
 "nbformat": 4,
 "nbformat_minor": 5
}
