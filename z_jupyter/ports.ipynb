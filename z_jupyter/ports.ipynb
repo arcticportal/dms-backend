{
 "cells": [
  {
   "cell_type": "code",
   "execution_count": 1,
   "id": "f16823ba",
   "metadata": {},
   "outputs": [],
   "source": [
    "import geopandas as gpd"
   ]
  },
  {
   "cell_type": "markdown",
   "id": "2d930c3f",
   "metadata": {},
   "source": [
    "\n"
   ]
  },
  {
   "cell_type": "code",
   "execution_count": 2,
   "id": "7c42a29c",
   "metadata": {},
   "outputs": [],
   "source": [
    "ports_shp = gpd.read_file(\"../temp/ports/ne_10m_ports.shp\", layer='ne_10m_ports')"
   ]
  },
  {
   "cell_type": "code",
   "execution_count": 4,
   "id": "cefbaa86",
   "metadata": {},
   "outputs": [],
   "source": [
    "filter_ports = ports_shp[[\"name\", \"website\", \"geometry\"]]"
   ]
  },
  {
   "cell_type": "code",
   "execution_count": 5,
   "id": "00665045",
   "metadata": {},
   "outputs": [
    {
     "data": {
      "text/html": [
       "<div>\n",
       "<style scoped>\n",
       "    .dataframe tbody tr th:only-of-type {\n",
       "        vertical-align: middle;\n",
       "    }\n",
       "\n",
       "    .dataframe tbody tr th {\n",
       "        vertical-align: top;\n",
       "    }\n",
       "\n",
       "    .dataframe thead th {\n",
       "        text-align: right;\n",
       "    }\n",
       "</style>\n",
       "<table border=\"1\" class=\"dataframe\">\n",
       "  <thead>\n",
       "    <tr style=\"text-align: right;\">\n",
       "      <th></th>\n",
       "      <th>name</th>\n",
       "      <th>website</th>\n",
       "      <th>geometry</th>\n",
       "    </tr>\n",
       "  </thead>\n",
       "  <tbody>\n",
       "    <tr>\n",
       "      <th>0</th>\n",
       "      <td>Sint Nicolaas</td>\n",
       "      <td>www.rocargo.com/SanNicolas.html</td>\n",
       "      <td>POINT (-69.92356 12.43750)</td>\n",
       "    </tr>\n",
       "    <tr>\n",
       "      <th>1</th>\n",
       "      <td>Campana</td>\n",
       "      <td>www.consejoportuario.com.ar</td>\n",
       "      <td>POINT (-58.95141 -34.15333)</td>\n",
       "    </tr>\n",
       "    <tr>\n",
       "      <th>2</th>\n",
       "      <td>Zarate</td>\n",
       "      <td>www.consejoportuario.com.ar</td>\n",
       "      <td>POINT (-59.00495 -34.09889)</td>\n",
       "    </tr>\n",
       "    <tr>\n",
       "      <th>3</th>\n",
       "      <td>Puerto Belgrano/Bahia Blanca</td>\n",
       "      <td>None</td>\n",
       "      <td>POINT (-62.10088 -38.89444)</td>\n",
       "    </tr>\n",
       "    <tr>\n",
       "      <th>4</th>\n",
       "      <td>Puerto Galvan/Bahia Blanca</td>\n",
       "      <td>None</td>\n",
       "      <td>POINT (-62.30053 -38.78306)</td>\n",
       "    </tr>\n",
       "    <tr>\n",
       "      <th>...</th>\n",
       "      <td>...</td>\n",
       "      <td>...</td>\n",
       "      <td>...</td>\n",
       "    </tr>\n",
       "    <tr>\n",
       "      <th>1076</th>\n",
       "      <td>Norfolk</td>\n",
       "      <td>www.vaports.com</td>\n",
       "      <td>POINT (-76.29252 36.90194)</td>\n",
       "    </tr>\n",
       "    <tr>\n",
       "      <th>1077</th>\n",
       "      <td>Seattle</td>\n",
       "      <td>www.portseattle.org</td>\n",
       "      <td>POINT (-122.35972 47.60222)</td>\n",
       "    </tr>\n",
       "    <tr>\n",
       "      <th>1078</th>\n",
       "      <td>Cape Town</td>\n",
       "      <td>www.transnetnationalportsauthority.net</td>\n",
       "      <td>POINT (18.43528 -33.90917)</td>\n",
       "    </tr>\n",
       "    <tr>\n",
       "      <th>1079</th>\n",
       "      <td>Toronto</td>\n",
       "      <td>None</td>\n",
       "      <td>POINT (-79.38000 43.61000)</td>\n",
       "    </tr>\n",
       "    <tr>\n",
       "      <th>1080</th>\n",
       "      <td>Chicago</td>\n",
       "      <td>None</td>\n",
       "      <td>POINT (-87.60000 41.88000)</td>\n",
       "    </tr>\n",
       "  </tbody>\n",
       "</table>\n",
       "<p>1081 rows × 3 columns</p>\n",
       "</div>"
      ],
      "text/plain": [
       "                              name                                 website  \\\n",
       "0                    Sint Nicolaas         www.rocargo.com/SanNicolas.html   \n",
       "1                          Campana             www.consejoportuario.com.ar   \n",
       "2                           Zarate             www.consejoportuario.com.ar   \n",
       "3     Puerto Belgrano/Bahia Blanca                                    None   \n",
       "4       Puerto Galvan/Bahia Blanca                                    None   \n",
       "...                            ...                                     ...   \n",
       "1076                       Norfolk                         www.vaports.com   \n",
       "1077                       Seattle                     www.portseattle.org   \n",
       "1078                     Cape Town  www.transnetnationalportsauthority.net   \n",
       "1079                       Toronto                                    None   \n",
       "1080                       Chicago                                    None   \n",
       "\n",
       "                         geometry  \n",
       "0      POINT (-69.92356 12.43750)  \n",
       "1     POINT (-58.95141 -34.15333)  \n",
       "2     POINT (-59.00495 -34.09889)  \n",
       "3     POINT (-62.10088 -38.89444)  \n",
       "4     POINT (-62.30053 -38.78306)  \n",
       "...                           ...  \n",
       "1076   POINT (-76.29252 36.90194)  \n",
       "1077  POINT (-122.35972 47.60222)  \n",
       "1078   POINT (18.43528 -33.90917)  \n",
       "1079   POINT (-79.38000 43.61000)  \n",
       "1080   POINT (-87.60000 41.88000)  \n",
       "\n",
       "[1081 rows x 3 columns]"
      ]
     },
     "execution_count": 5,
     "metadata": {},
     "output_type": "execute_result"
    }
   ],
   "source": [
    "filter_ports"
   ]
  },
  {
   "cell_type": "code",
   "execution_count": null,
   "id": "d5c78499",
   "metadata": {},
   "outputs": [],
   "source": []
  }
 ],
 "metadata": {
  "kernelspec": {
   "display_name": "Django Shell-Plus",
   "language": "python",
   "name": "django_extensions"
  },
  "language_info": {
   "codemirror_mode": {
    "name": "ipython",
    "version": 3
   },
   "file_extension": ".py",
   "mimetype": "text/x-python",
   "name": "python",
   "nbconvert_exporter": "python",
   "pygments_lexer": "ipython3",
   "version": "3.9.9"
  }
 },
 "nbformat": 4,
 "nbformat_minor": 5
}
